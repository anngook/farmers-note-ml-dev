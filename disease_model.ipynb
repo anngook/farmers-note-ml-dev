{
  "nbformat": 4,
  "nbformat_minor": 0,
  "metadata": {
    "colab": {
      "provenance": [],
      "gpuType": "T4",
      "mount_file_id": "1ceHdhozKHOCdGULV776eGo5xtLTLTdI6",
      "authorship_tag": "ABX9TyOlF4UcUgAZ3vnrSPQkmTy4",
      "include_colab_link": true
    },
    "kernelspec": {
      "name": "python3",
      "display_name": "Python 3"
    },
    "language_info": {
      "name": "python"
    },
    "accelerator": "GPU"
  },
  "cells": [
    {
      "cell_type": "markdown",
      "metadata": {
        "id": "view-in-github",
        "colab_type": "text"
      },
      "source": [
        "<a href=\"https://colab.research.google.com/github/anngook/farmers-note-ml-dev/blob/main/disease_model.ipynb\" target=\"_parent\"><img src=\"https://colab.research.google.com/assets/colab-badge.svg\" alt=\"Open In Colab\"/></a>"
      ]
    },
    {
      "cell_type": "code",
      "execution_count": 1,
      "metadata": {
        "colab": {
          "base_uri": "https://localhost:8080/"
        },
        "id": "_s_yVF95R0yP",
        "outputId": "cce31e35-768f-4c0b-9c5e-6c23b92df918"
      },
      "outputs": [
        {
          "output_type": "stream",
          "name": "stdout",
          "text": [
            "Collecting efficientnet_pytorch\n",
            "  Downloading efficientnet_pytorch-0.7.1.tar.gz (21 kB)\n",
            "  Preparing metadata (setup.py) ... \u001b[?25l\u001b[?25hdone\n",
            "Requirement already satisfied: torch in /usr/local/lib/python3.12/dist-packages (from efficientnet_pytorch) (2.8.0+cu126)\n",
            "Requirement already satisfied: filelock in /usr/local/lib/python3.12/dist-packages (from torch->efficientnet_pytorch) (3.19.1)\n",
            "Requirement already satisfied: typing-extensions>=4.10.0 in /usr/local/lib/python3.12/dist-packages (from torch->efficientnet_pytorch) (4.15.0)\n",
            "Requirement already satisfied: setuptools in /usr/local/lib/python3.12/dist-packages (from torch->efficientnet_pytorch) (75.2.0)\n",
            "Requirement already satisfied: sympy>=1.13.3 in /usr/local/lib/python3.12/dist-packages (from torch->efficientnet_pytorch) (1.13.3)\n",
            "Requirement already satisfied: networkx in /usr/local/lib/python3.12/dist-packages (from torch->efficientnet_pytorch) (3.5)\n",
            "Requirement already satisfied: jinja2 in /usr/local/lib/python3.12/dist-packages (from torch->efficientnet_pytorch) (3.1.6)\n",
            "Requirement already satisfied: fsspec in /usr/local/lib/python3.12/dist-packages (from torch->efficientnet_pytorch) (2025.3.0)\n",
            "Requirement already satisfied: nvidia-cuda-nvrtc-cu12==12.6.77 in /usr/local/lib/python3.12/dist-packages (from torch->efficientnet_pytorch) (12.6.77)\n",
            "Requirement already satisfied: nvidia-cuda-runtime-cu12==12.6.77 in /usr/local/lib/python3.12/dist-packages (from torch->efficientnet_pytorch) (12.6.77)\n",
            "Requirement already satisfied: nvidia-cuda-cupti-cu12==12.6.80 in /usr/local/lib/python3.12/dist-packages (from torch->efficientnet_pytorch) (12.6.80)\n",
            "Requirement already satisfied: nvidia-cudnn-cu12==9.10.2.21 in /usr/local/lib/python3.12/dist-packages (from torch->efficientnet_pytorch) (9.10.2.21)\n",
            "Requirement already satisfied: nvidia-cublas-cu12==12.6.4.1 in /usr/local/lib/python3.12/dist-packages (from torch->efficientnet_pytorch) (12.6.4.1)\n",
            "Requirement already satisfied: nvidia-cufft-cu12==11.3.0.4 in /usr/local/lib/python3.12/dist-packages (from torch->efficientnet_pytorch) (11.3.0.4)\n",
            "Requirement already satisfied: nvidia-curand-cu12==10.3.7.77 in /usr/local/lib/python3.12/dist-packages (from torch->efficientnet_pytorch) (10.3.7.77)\n",
            "Requirement already satisfied: nvidia-cusolver-cu12==11.7.1.2 in /usr/local/lib/python3.12/dist-packages (from torch->efficientnet_pytorch) (11.7.1.2)\n",
            "Requirement already satisfied: nvidia-cusparse-cu12==12.5.4.2 in /usr/local/lib/python3.12/dist-packages (from torch->efficientnet_pytorch) (12.5.4.2)\n",
            "Requirement already satisfied: nvidia-cusparselt-cu12==0.7.1 in /usr/local/lib/python3.12/dist-packages (from torch->efficientnet_pytorch) (0.7.1)\n",
            "Requirement already satisfied: nvidia-nccl-cu12==2.27.3 in /usr/local/lib/python3.12/dist-packages (from torch->efficientnet_pytorch) (2.27.3)\n",
            "Requirement already satisfied: nvidia-nvtx-cu12==12.6.77 in /usr/local/lib/python3.12/dist-packages (from torch->efficientnet_pytorch) (12.6.77)\n",
            "Requirement already satisfied: nvidia-nvjitlink-cu12==12.6.85 in /usr/local/lib/python3.12/dist-packages (from torch->efficientnet_pytorch) (12.6.85)\n",
            "Requirement already satisfied: nvidia-cufile-cu12==1.11.1.6 in /usr/local/lib/python3.12/dist-packages (from torch->efficientnet_pytorch) (1.11.1.6)\n",
            "Requirement already satisfied: triton==3.4.0 in /usr/local/lib/python3.12/dist-packages (from torch->efficientnet_pytorch) (3.4.0)\n",
            "Requirement already satisfied: mpmath<1.4,>=1.1.0 in /usr/local/lib/python3.12/dist-packages (from sympy>=1.13.3->torch->efficientnet_pytorch) (1.3.0)\n",
            "Requirement already satisfied: MarkupSafe>=2.0 in /usr/local/lib/python3.12/dist-packages (from jinja2->torch->efficientnet_pytorch) (3.0.3)\n",
            "Building wheels for collected packages: efficientnet_pytorch\n",
            "  Building wheel for efficientnet_pytorch (setup.py) ... \u001b[?25l\u001b[?25hdone\n",
            "  Created wheel for efficientnet_pytorch: filename=efficientnet_pytorch-0.7.1-py3-none-any.whl size=16426 sha256=669d95e5560016303313ed9e435b811994ac38275af50f1b053fb8a6f074e71e\n",
            "  Stored in directory: /root/.cache/pip/wheels/9c/3f/43/e6271c7026fe08c185da2be23c98c8e87477d3db63f41f32ad\n",
            "Successfully built efficientnet_pytorch\n",
            "Installing collected packages: efficientnet_pytorch\n",
            "Successfully installed efficientnet_pytorch-0.7.1\n",
            "Collecting torchmetrics\n",
            "  Downloading torchmetrics-1.8.2-py3-none-any.whl.metadata (22 kB)\n",
            "Requirement already satisfied: numpy>1.20.0 in /usr/local/lib/python3.12/dist-packages (from torchmetrics) (2.0.2)\n",
            "Requirement already satisfied: packaging>17.1 in /usr/local/lib/python3.12/dist-packages (from torchmetrics) (25.0)\n",
            "Requirement already satisfied: torch>=2.0.0 in /usr/local/lib/python3.12/dist-packages (from torchmetrics) (2.8.0+cu126)\n",
            "Collecting lightning-utilities>=0.8.0 (from torchmetrics)\n",
            "  Downloading lightning_utilities-0.15.2-py3-none-any.whl.metadata (5.7 kB)\n",
            "Requirement already satisfied: setuptools in /usr/local/lib/python3.12/dist-packages (from lightning-utilities>=0.8.0->torchmetrics) (75.2.0)\n",
            "Requirement already satisfied: typing_extensions in /usr/local/lib/python3.12/dist-packages (from lightning-utilities>=0.8.0->torchmetrics) (4.15.0)\n",
            "Requirement already satisfied: filelock in /usr/local/lib/python3.12/dist-packages (from torch>=2.0.0->torchmetrics) (3.19.1)\n",
            "Requirement already satisfied: sympy>=1.13.3 in /usr/local/lib/python3.12/dist-packages (from torch>=2.0.0->torchmetrics) (1.13.3)\n",
            "Requirement already satisfied: networkx in /usr/local/lib/python3.12/dist-packages (from torch>=2.0.0->torchmetrics) (3.5)\n",
            "Requirement already satisfied: jinja2 in /usr/local/lib/python3.12/dist-packages (from torch>=2.0.0->torchmetrics) (3.1.6)\n",
            "Requirement already satisfied: fsspec in /usr/local/lib/python3.12/dist-packages (from torch>=2.0.0->torchmetrics) (2025.3.0)\n",
            "Requirement already satisfied: nvidia-cuda-nvrtc-cu12==12.6.77 in /usr/local/lib/python3.12/dist-packages (from torch>=2.0.0->torchmetrics) (12.6.77)\n",
            "Requirement already satisfied: nvidia-cuda-runtime-cu12==12.6.77 in /usr/local/lib/python3.12/dist-packages (from torch>=2.0.0->torchmetrics) (12.6.77)\n",
            "Requirement already satisfied: nvidia-cuda-cupti-cu12==12.6.80 in /usr/local/lib/python3.12/dist-packages (from torch>=2.0.0->torchmetrics) (12.6.80)\n",
            "Requirement already satisfied: nvidia-cudnn-cu12==9.10.2.21 in /usr/local/lib/python3.12/dist-packages (from torch>=2.0.0->torchmetrics) (9.10.2.21)\n",
            "Requirement already satisfied: nvidia-cublas-cu12==12.6.4.1 in /usr/local/lib/python3.12/dist-packages (from torch>=2.0.0->torchmetrics) (12.6.4.1)\n",
            "Requirement already satisfied: nvidia-cufft-cu12==11.3.0.4 in /usr/local/lib/python3.12/dist-packages (from torch>=2.0.0->torchmetrics) (11.3.0.4)\n",
            "Requirement already satisfied: nvidia-curand-cu12==10.3.7.77 in /usr/local/lib/python3.12/dist-packages (from torch>=2.0.0->torchmetrics) (10.3.7.77)\n",
            "Requirement already satisfied: nvidia-cusolver-cu12==11.7.1.2 in /usr/local/lib/python3.12/dist-packages (from torch>=2.0.0->torchmetrics) (11.7.1.2)\n",
            "Requirement already satisfied: nvidia-cusparse-cu12==12.5.4.2 in /usr/local/lib/python3.12/dist-packages (from torch>=2.0.0->torchmetrics) (12.5.4.2)\n",
            "Requirement already satisfied: nvidia-cusparselt-cu12==0.7.1 in /usr/local/lib/python3.12/dist-packages (from torch>=2.0.0->torchmetrics) (0.7.1)\n",
            "Requirement already satisfied: nvidia-nccl-cu12==2.27.3 in /usr/local/lib/python3.12/dist-packages (from torch>=2.0.0->torchmetrics) (2.27.3)\n",
            "Requirement already satisfied: nvidia-nvtx-cu12==12.6.77 in /usr/local/lib/python3.12/dist-packages (from torch>=2.0.0->torchmetrics) (12.6.77)\n",
            "Requirement already satisfied: nvidia-nvjitlink-cu12==12.6.85 in /usr/local/lib/python3.12/dist-packages (from torch>=2.0.0->torchmetrics) (12.6.85)\n",
            "Requirement already satisfied: nvidia-cufile-cu12==1.11.1.6 in /usr/local/lib/python3.12/dist-packages (from torch>=2.0.0->torchmetrics) (1.11.1.6)\n",
            "Requirement already satisfied: triton==3.4.0 in /usr/local/lib/python3.12/dist-packages (from torch>=2.0.0->torchmetrics) (3.4.0)\n",
            "Requirement already satisfied: mpmath<1.4,>=1.1.0 in /usr/local/lib/python3.12/dist-packages (from sympy>=1.13.3->torch>=2.0.0->torchmetrics) (1.3.0)\n",
            "Requirement already satisfied: MarkupSafe>=2.0 in /usr/local/lib/python3.12/dist-packages (from jinja2->torch>=2.0.0->torchmetrics) (3.0.3)\n",
            "Downloading torchmetrics-1.8.2-py3-none-any.whl (983 kB)\n",
            "\u001b[2K   \u001b[90m━━━━━━━━━━━━━━━━━━━━━━━━━━━━━━━━━━━━━━━━\u001b[0m \u001b[32m983.2/983.2 kB\u001b[0m \u001b[31m29.8 MB/s\u001b[0m eta \u001b[36m0:00:00\u001b[0m\n",
            "\u001b[?25hDownloading lightning_utilities-0.15.2-py3-none-any.whl (29 kB)\n",
            "Installing collected packages: lightning-utilities, torchmetrics\n",
            "Successfully installed lightning-utilities-0.15.2 torchmetrics-1.8.2\n",
            "Requirement already satisfied: kagglehub in /usr/local/lib/python3.12/dist-packages (0.3.13)\n",
            "Requirement already satisfied: packaging in /usr/local/lib/python3.12/dist-packages (from kagglehub) (25.0)\n",
            "Requirement already satisfied: pyyaml in /usr/local/lib/python3.12/dist-packages (from kagglehub) (6.0.3)\n",
            "Requirement already satisfied: requests in /usr/local/lib/python3.12/dist-packages (from kagglehub) (2.32.4)\n",
            "Requirement already satisfied: tqdm in /usr/local/lib/python3.12/dist-packages (from kagglehub) (4.67.1)\n",
            "Requirement already satisfied: charset_normalizer<4,>=2 in /usr/local/lib/python3.12/dist-packages (from requests->kagglehub) (3.4.3)\n",
            "Requirement already satisfied: idna<4,>=2.5 in /usr/local/lib/python3.12/dist-packages (from requests->kagglehub) (3.10)\n",
            "Requirement already satisfied: urllib3<3,>=1.21.1 in /usr/local/lib/python3.12/dist-packages (from requests->kagglehub) (2.5.0)\n",
            "Requirement already satisfied: certifi>=2017.4.17 in /usr/local/lib/python3.12/dist-packages (from requests->kagglehub) (2025.8.3)\n",
            "Downloading from https://www.kaggle.com/api/v1/datasets/download/loki4514/rice-leaf-diseases-detection?dataset_version_number=8...\n"
          ]
        },
        {
          "output_type": "stream",
          "name": "stderr",
          "text": [
            "100%|██████████| 8.03G/8.03G [01:15<00:00, 114MB/s]"
          ]
        },
        {
          "output_type": "stream",
          "name": "stdout",
          "text": [
            "Extracting files...\n"
          ]
        },
        {
          "output_type": "stream",
          "name": "stderr",
          "text": [
            "\n"
          ]
        },
        {
          "output_type": "stream",
          "name": "stdout",
          "text": [
            "다운로드된 데이터셋 경로: /root/.cache/kagglehub/datasets/loki4514/rice-leaf-diseases-detection/versions/8\n"
          ]
        }
      ],
      "source": [
        "# ==============================================================================\n",
        "# 1. 라이브러리 설치 및 데이터 다운로드\n",
        "# ==============================================================================\n",
        "\n",
        "!pip install efficientnet_pytorch\n",
        "!pip install torchmetrics\n",
        "!pip install kagglehub  # KaggleHub 설치\n",
        "\n",
        "import torch\n",
        "import torch.nn as nn\n",
        "import torch.optim as optim\n",
        "from torch.utils.data import DataLoader\n",
        "from torchvision import datasets, transforms\n",
        "import os\n",
        "import kagglehub # 임포트\n",
        "\n",
        "# 다운로드 및 경로 설정\n",
        "# dataset_download는 다운로드 후 압축을 해제한 데이터셋의 루트 경로를 반환합니다.\n",
        "# 이 경로는 보통 '/root/.kaggle/kagglehub/datasets/loki4514/rice-leaf-diseases-detection/latest' 와 유사합니다.\n",
        "path = kagglehub.dataset_download(\"loki4514/rice-leaf-diseases-detection\")\n",
        "\n",
        "print(\"다운로드된 데이터셋 경로:\", path)"
      ]
    },
    {
      "cell_type": "code",
      "source": [
        "# GPU 사용 설정 (⚠️ 이 부분이 실행되어야 합니다!)\n",
        "device = torch.device(\"cuda:0\" if torch.cuda.is_available() else \"cpu\")\n",
        "print(f\"사용 장치: {device}\")"
      ],
      "metadata": {
        "colab": {
          "base_uri": "https://localhost:8080/"
        },
        "id": "RqLAuUG6duv_",
        "outputId": "4136a68f-8944-4ea9-b425-b1db0db32fc1"
      },
      "execution_count": 2,
      "outputs": [
        {
          "output_type": "stream",
          "name": "stdout",
          "text": [
            "사용 장치: cuda:0\n"
          ]
        }
      ]
    },
    {
      "cell_type": "code",
      "source": [
        "import time # ⚠️ 이 부분이 실행되어야 'time.time()'을 사용할 수 있습니다.\n",
        "import copy # ⚠️ 이 부분이 실행되어야 'copy.deepcopy()'를 사용할 수 있습니다."
      ],
      "metadata": {
        "id": "q6q6EO0QenlI"
      },
      "execution_count": 3,
      "outputs": []
    },
    {
      "cell_type": "code",
      "source": [
        "DATA_ROOT = '/root/.cache/kagglehub/datasets/loki4514/rice-leaf-diseases-detection/versions/8'\n",
        "\n",
        "print(\"루트 경로의 내부 목록을 확인합니다:\")\n",
        "print(\"==================================\")\n",
        "# 'ls -F' 명령어로 DATA_ROOT 내부 목록을 출력합니다.\n",
        "!ls -F {DATA_ROOT}"
      ],
      "metadata": {
        "colab": {
          "base_uri": "https://localhost:8080/"
        },
        "id": "Pj5kbcdNWpd1",
        "outputId": "354a9312-f641-438b-c952-eb25d459230a"
      },
      "execution_count": 4,
      "outputs": [
        {
          "output_type": "stream",
          "name": "stdout",
          "text": [
            "루트 경로의 내부 목록을 확인합니다:\n",
            "==================================\n",
            "Rice_Leaf_AUG/\tRice_Leaf_Diease/\n"
          ]
        }
      ]
    },
    {
      "cell_type": "code",
      "source": [
        "# ==============================================================================\n",
        "# 2. 데이터셋 경로 설정 (최종 확정 수정)\n",
        "# ==============================================================================\n",
        "\n",
        "# path 변수에는 다운로드 루트 경로 '/root/.cache/.../versions/8'이 담겨있다고 가정합니다.\n",
        "DATA_ROOT = path\n",
        "\n",
        "# 🚨 이미지에서 확인된 정확한 중첩 폴더 구조를 반영합니다.\n",
        "# 'Rice_Leaf_Diease' 폴더가 두 번 중복됩니다.\n",
        "NESTED_ROOT = os.path.join(DATA_ROOT, 'Rice_Leaf_Diease', 'Rice_Leaf_Diease')\n",
        "\n",
        "# ⚠️ 'train'과 'test' 폴더 이름을 사용합니다. (모두 소문자, 이미지에서 확인 완료)\n",
        "TRAIN_DIR = os.path.join(NESTED_ROOT, 'train')\n",
        "VAL_DIR = os.path.join(NESTED_ROOT, 'test')\n",
        "\n",
        "print(f\"최종 TRAIN 경로: {TRAIN_DIR}\")\n",
        "print(f\"최종 VAL 경로: {VAL_DIR}\")"
      ],
      "metadata": {
        "colab": {
          "base_uri": "https://localhost:8080/"
        },
        "id": "SS_T7pFdTfdv",
        "outputId": "0b7ba223-93d3-4395-f3c9-b5857b39bacb"
      },
      "execution_count": 5,
      "outputs": [
        {
          "output_type": "stream",
          "name": "stdout",
          "text": [
            "최종 TRAIN 경로: /root/.cache/kagglehub/datasets/loki4514/rice-leaf-diseases-detection/versions/8/Rice_Leaf_Diease/Rice_Leaf_Diease/train\n",
            "최종 VAL 경로: /root/.cache/kagglehub/datasets/loki4514/rice-leaf-diseases-detection/versions/8/Rice_Leaf_Diease/Rice_Leaf_Diease/test\n"
          ]
        }
      ]
    },
    {
      "cell_type": "code",
      "source": [
        "# ==============================================================================\n",
        "# 3. 하이퍼파라미터 및 데이터 변환 설정\n",
        "# ==============================================================================\n",
        "from efficientnet_pytorch import EfficientNet\n",
        "\n",
        "# 하이퍼파라미터\n",
        "BATCH_SIZE = 32 # 코랩 무료 버전 GPU 메모리에 맞게 조절 (EfficientNet-B0는 32도 가능)\n",
        "NUM_EPOCHS = 10\n",
        "LEARNING_RATE = 0.001\n",
        "MODEL_NAME = 'efficientnet-b0' # B0 선택\n",
        "\n",
        "# EfficientNet-B0의 권장 입력 이미지 크기\n",
        "INPUT_SIZE = EfficientNet.get_image_size(MODEL_NAME)\n",
        "\n",
        "# 데이터 증강 및 정규화\n",
        "data_transforms = {\n",
        "    'train': transforms.Compose([\n",
        "        transforms.Resize(INPUT_SIZE),\n",
        "        transforms.RandomResizedCrop(INPUT_SIZE),\n",
        "        transforms.RandomHorizontalFlip(),\n",
        "        transforms.ToTensor(),\n",
        "        transforms.Normalize([0.485, 0.456, 0.406], [0.229, 0.224, 0.225]) # ImageNet 통계\n",
        "    ]),\n",
        "    'test': transforms.Compose([\n",
        "        transforms.Resize(INPUT_SIZE),\n",
        "        transforms.CenterCrop(INPUT_SIZE),\n",
        "        transforms.ToTensor(),\n",
        "        transforms.Normalize([0.485, 0.456, 0.406], [0.229, 0.224, 0.225])\n",
        "    ]),\n",
        "}\n"
      ],
      "metadata": {
        "id": "-oTZRBX3TmQM"
      },
      "execution_count": 6,
      "outputs": []
    },
    {
      "cell_type": "code",
      "source": [
        "# ==============================================================================\n",
        "# 4. 데이터 로드 및 DataLoader 생성\n",
        "# ==============================================================================\n",
        "\n",
        "print(\"\\n데이터 로딩 중...\")\n",
        "\n",
        "image_datasets = {\n",
        "    'train': datasets.ImageFolder(TRAIN_DIR, data_transforms['train']),\n",
        "    'test': datasets.ImageFolder(VAL_DIR, data_transforms['test'])\n",
        "}\n",
        "\n",
        "dataloaders = {\n",
        "    'train': DataLoader(image_datasets['train'], batch_size=BATCH_SIZE, shuffle=True, num_workers=2),\n",
        "    'test': DataLoader(image_datasets['test'], batch_size=BATCH_SIZE, shuffle=False, num_workers=2)\n",
        "}\n",
        "\n",
        "dataset_sizes = {x: len(image_datasets[x]) for x in ['train', 'test']}\n",
        "class_names = image_datasets['train'].classes\n",
        "NUM_CLASSES = len(class_names)\n",
        "\n",
        "print(f\"클래스 개수: {NUM_CLASSES}\")\n",
        "print(f\"클래스 이름: {class_names}\")\n",
        "print(f\"학습 데이터셋 크기: {dataset_sizes['train']}\")\n",
        "print(f\"검증 데이터셋 크기: {dataset_sizes['test']}\")"
      ],
      "metadata": {
        "colab": {
          "base_uri": "https://localhost:8080/"
        },
        "id": "MuY7fes-Y0XY",
        "outputId": "f4cf3e6d-9023-4f3d-a2de-e2eee7f7f033"
      },
      "execution_count": 7,
      "outputs": [
        {
          "output_type": "stream",
          "name": "stdout",
          "text": [
            "\n",
            "데이터 로딩 중...\n",
            "클래스 개수: 10\n",
            "클래스 이름: ['bacterial_leaf_blight', 'brown_spot', 'healthy', 'leaf_blast', 'leaf_scald', 'narrow_brown_spot', 'neck_blast', 'rice_hispa', 'sheath_blight', 'tungro']\n",
            "학습 데이터셋 크기: 15023\n",
            "검증 데이터셋 크기: 3422\n"
          ]
        }
      ]
    },
    {
      "cell_type": "code",
      "source": [
        "# ==============================================================================\n",
        "# 5. 모델 설정 (EfficientNet-B0 전이 학습)\n",
        "# ==============================================================================\n",
        "\n",
        "model_ft = EfficientNet.from_pretrained(MODEL_NAME, num_classes=NUM_CLASSES).to(device)\n",
        "\n",
        "criterion = nn.CrossEntropyLoss()\n",
        "optimizer_ft = optim.Adam(model_ft.parameters(), lr=LEARNING_RATE)\n",
        "exp_lr_scheduler = optim.lr_scheduler.StepLR(optimizer_ft, step_size=5, gamma=0.1)"
      ],
      "metadata": {
        "colab": {
          "base_uri": "https://localhost:8080/"
        },
        "id": "15Nczz5VdWMY",
        "outputId": "1d093b38-71b2-4cd9-aea6-fb474b3201a7"
      },
      "execution_count": 8,
      "outputs": [
        {
          "output_type": "stream",
          "name": "stdout",
          "text": [
            "Downloading: \"https://github.com/lukemelas/EfficientNet-PyTorch/releases/download/1.0/efficientnet-b0-355c32eb.pth\" to /root/.cache/torch/hub/checkpoints/efficientnet-b0-355c32eb.pth\n"
          ]
        },
        {
          "output_type": "stream",
          "name": "stderr",
          "text": [
            "100%|██████████| 20.4M/20.4M [00:00<00:00, 205MB/s]\n"
          ]
        },
        {
          "output_type": "stream",
          "name": "stdout",
          "text": [
            "Loaded pretrained weights for efficientnet-b0\n"
          ]
        }
      ]
    },
    {
      "cell_type": "code",
      "source": [
        "# ==============================================================================\n",
        "# 6. 모델 학습 함수 (test 키 사용으로 수정)\n",
        "# ==============================================================================\n",
        "\n",
        "def train_model(model, criterion, optimizer, scheduler, num_epochs=10):\n",
        "    since = time.time()\n",
        "    best_model_wts = copy.deepcopy(model.state_dict())\n",
        "    best_acc = 0.0\n",
        "\n",
        "    for epoch in range(num_epochs):\n",
        "        print(f'\\nEpoch {epoch+1}/{num_epochs}'); print('-' * 10)\n",
        "\n",
        "        # ⚠️ 'val' 대신 'test' 키를 사용합니다.\n",
        "        for phase in ['train', 'test']:\n",
        "            if phase == 'train': model.train()\n",
        "            else: model.eval()\n",
        "\n",
        "            running_loss = 0.0\n",
        "            running_corrects = 0\n",
        "\n",
        "            for inputs, labels in dataloaders[phase]:\n",
        "                inputs = inputs.to(device)\n",
        "                labels = labels.to(device)\n",
        "                optimizer.zero_grad()\n",
        "\n",
        "                with torch.set_grad_enabled(phase == 'train'):\n",
        "                    outputs = model(inputs)\n",
        "                    _, preds = torch.max(outputs, 1)\n",
        "                    loss = criterion(outputs, labels)\n",
        "\n",
        "                    if phase == 'train':\n",
        "                        loss.backward()\n",
        "                        optimizer.step()\n",
        "\n",
        "                running_loss += loss.item() * inputs.size(0)\n",
        "                running_corrects += torch.sum(preds == labels.data)\n",
        "\n",
        "            if phase == 'train': scheduler.step()\n",
        "\n",
        "            epoch_loss = running_loss / dataset_sizes[phase]\n",
        "            epoch_acc = running_corrects.double() / dataset_sizes[phase]\n",
        "\n",
        "            # ⚠️ 출력 메시지도 'test'로 수정\n",
        "            print(f'{phase} Loss: {epoch_loss:.4f} Acc: {epoch_acc:.4f}')\n",
        "\n",
        "            # ⚠️ 'test' 단계의 정확도가 최고 기록일 때 모델을 저장합니다.\n",
        "            if phase == 'test' and epoch_acc > best_acc:\n",
        "                best_acc = epoch_acc\n",
        "                best_model_wts = copy.deepcopy(model.state_dict())\n",
        "                print(f'-> New best model found! Saving weights with Acc: {best_acc:.4f}')\n",
        "\n",
        "    time_elapsed = time.time() - since\n",
        "    print(f'\\n학습 완료! 총 시간: {time_elapsed // 60:.0f}분 {time_elapsed % 60:.0f}초')\n",
        "    print(f'최고 검증 정확도: {best_acc:.4f}')\n",
        "\n",
        "    model.load_state_dict(best_model_wts)\n",
        "    return model"
      ],
      "metadata": {
        "id": "nztWbuEedcS0"
      },
      "execution_count": 9,
      "outputs": []
    },
    {
      "cell_type": "code",
      "source": [
        "from google.colab import drive #"
      ],
      "metadata": {
        "id": "u_P5zPOOlbFg"
      },
      "execution_count": 12,
      "outputs": []
    },
    {
      "cell_type": "code",
      "source": [
        "# ==============================================================================\n",
        "# 7. 모델 학습 실행 및 저장\n",
        "# ==============================================================================\n",
        "\n",
        "# 모델 학습 시작\n",
        "model_ft = train_model(model_ft, criterion, optimizer_ft, exp_lr_scheduler, num_epochs=NUM_EPOCHS)\n",
        "\n",
        "# 구글 드라이브 마운트 (저장을 위해 필요합니다)\n",
        "drive.mount('/content/drive')\n",
        "MODEL_SAVE_PATH = '/content/drive/MyDrive/efficientnet_rice_disease_best_model.pth'\n",
        "\n",
        "# 모델 저장\n",
        "torch.save(model_ft.state_dict(), MODEL_SAVE_PATH)\n",
        "print(f\"\\n✅ 모델 가중치가 {MODEL_SAVE_PATH}에 저장되었습니다.\")"
      ],
      "metadata": {
        "colab": {
          "base_uri": "https://localhost:8080/",
          "height": 1000
        },
        "id": "qkqV3csHdx7a",
        "outputId": "7a6ec83b-26e2-460d-bf57-000241ac93e0"
      },
      "execution_count": 10,
      "outputs": [
        {
          "output_type": "stream",
          "name": "stdout",
          "text": [
            "\n",
            "Epoch 1/10\n",
            "----------\n",
            "train Loss: 0.5038 Acc: 0.8326\n",
            "test Loss: 13.1115 Acc: 0.0058\n",
            "-> New best model found! Saving weights with Acc: 0.0058\n",
            "\n",
            "Epoch 2/10\n",
            "----------\n",
            "train Loss: 0.2925 Acc: 0.9004\n",
            "test Loss: 13.9267 Acc: 0.0120\n",
            "-> New best model found! Saving weights with Acc: 0.0120\n",
            "\n",
            "Epoch 3/10\n",
            "----------\n",
            "train Loss: 0.2340 Acc: 0.9210\n",
            "test Loss: 14.4181 Acc: 0.0134\n",
            "-> New best model found! Saving weights with Acc: 0.0134\n",
            "\n",
            "Epoch 4/10\n",
            "----------\n",
            "train Loss: 0.2065 Acc: 0.9272\n",
            "test Loss: 15.0749 Acc: 0.0102\n",
            "\n",
            "Epoch 5/10\n",
            "----------\n",
            "train Loss: 0.1877 Acc: 0.9344\n",
            "test Loss: 15.7491 Acc: 0.0012\n",
            "\n",
            "Epoch 6/10\n",
            "----------\n",
            "train Loss: 0.1294 Acc: 0.9552\n",
            "test Loss: 16.2499 Acc: 0.0000\n",
            "\n",
            "Epoch 7/10\n",
            "----------\n",
            "train Loss: 0.0973 Acc: 0.9659\n",
            "test Loss: 16.3985 Acc: 0.0000\n",
            "\n",
            "Epoch 8/10\n",
            "----------\n",
            "train Loss: 0.0940 Acc: 0.9663\n",
            "test Loss: 16.4648 Acc: 0.0000\n",
            "\n",
            "Epoch 9/10\n",
            "----------\n",
            "train Loss: 0.0871 Acc: 0.9694\n",
            "test Loss: 17.2210 Acc: 0.0000\n",
            "\n",
            "Epoch 10/10\n",
            "----------\n",
            "train Loss: 0.0797 Acc: 0.9720\n",
            "test Loss: 17.1744 Acc: 0.0000\n",
            "\n",
            "학습 완료! 총 시간: 88분 39초\n",
            "최고 검증 정확도: 0.0134\n"
          ]
        },
        {
          "output_type": "error",
          "ename": "NameError",
          "evalue": "name 'drive' is not defined",
          "traceback": [
            "\u001b[0;31m---------------------------------------------------------------------------\u001b[0m",
            "\u001b[0;31mNameError\u001b[0m                                 Traceback (most recent call last)",
            "\u001b[0;32m/tmp/ipython-input-3014686792.py\u001b[0m in \u001b[0;36m<cell line: 0>\u001b[0;34m()\u001b[0m\n\u001b[1;32m      7\u001b[0m \u001b[0;34m\u001b[0m\u001b[0m\n\u001b[1;32m      8\u001b[0m \u001b[0;31m# 구글 드라이브 마운트 (저장을 위해 필요합니다)\u001b[0m\u001b[0;34m\u001b[0m\u001b[0;34m\u001b[0m\u001b[0m\n\u001b[0;32m----> 9\u001b[0;31m \u001b[0mdrive\u001b[0m\u001b[0;34m.\u001b[0m\u001b[0mmount\u001b[0m\u001b[0;34m(\u001b[0m\u001b[0;34m'/content/drive'\u001b[0m\u001b[0;34m)\u001b[0m\u001b[0;34m\u001b[0m\u001b[0;34m\u001b[0m\u001b[0m\n\u001b[0m\u001b[1;32m     10\u001b[0m \u001b[0mMODEL_SAVE_PATH\u001b[0m \u001b[0;34m=\u001b[0m \u001b[0;34m'/content/drive/MyDrive/efficientnet_rice_disease_best_model.pth'\u001b[0m\u001b[0;34m\u001b[0m\u001b[0;34m\u001b[0m\u001b[0m\n\u001b[1;32m     11\u001b[0m \u001b[0;34m\u001b[0m\u001b[0m\n",
            "\u001b[0;31mNameError\u001b[0m: name 'drive' is not defined"
          ]
        }
      ]
    },
    {
      "cell_type": "code",
      "source": [
        "# 현재 할당된 GPU 정보 확인\n",
        "!nvidia-smi"
      ],
      "metadata": {
        "colab": {
          "base_uri": "https://localhost:8080/"
        },
        "id": "-VSEopjJluwu",
        "outputId": "fa72ebe7-7ee0-4b10-a5e6-203b4af79667"
      },
      "execution_count": 11,
      "outputs": [
        {
          "output_type": "stream",
          "name": "stdout",
          "text": [
            "Wed Oct  8 06:47:42 2025       \n",
            "+-----------------------------------------------------------------------------------------+\n",
            "| NVIDIA-SMI 550.54.15              Driver Version: 550.54.15      CUDA Version: 12.4     |\n",
            "|-----------------------------------------+------------------------+----------------------+\n",
            "| GPU  Name                 Persistence-M | Bus-Id          Disp.A | Volatile Uncorr. ECC |\n",
            "| Fan  Temp   Perf          Pwr:Usage/Cap |           Memory-Usage | GPU-Util  Compute M. |\n",
            "|                                         |                        |               MIG M. |\n",
            "|=========================================+========================+======================|\n",
            "|   0  Tesla T4                       Off |   00000000:00:04.0 Off |                    0 |\n",
            "| N/A   77C    P0             33W /   70W |    3494MiB /  15360MiB |      0%      Default |\n",
            "|                                         |                        |                  N/A |\n",
            "+-----------------------------------------+------------------------+----------------------+\n",
            "                                                                                         \n",
            "+-----------------------------------------------------------------------------------------+\n",
            "| Processes:                                                                              |\n",
            "|  GPU   GI   CI        PID   Type   Process name                              GPU Memory |\n",
            "|        ID   ID                                                               Usage      |\n",
            "|=========================================================================================|\n",
            "+-----------------------------------------------------------------------------------------+\n"
          ]
        }
      ]
    },
    {
      "cell_type": "code",
      "source": [
        "# 구글 드라이브 마운트 (저장을 위해 필요합니다)\n",
        "drive.mount('/content/drive')\n",
        "MODEL_SAVE_PATH = '/content/drive/MyDrive/efficientnet_rice_disease_best_model.pth'\n",
        "\n",
        "# 모델 저장\n",
        "torch.save(model_ft.state_dict(), MODEL_SAVE_PATH)\n",
        "print(f\"\\n✅ 모델 가중치가 {MODEL_SAVE_PATH}에 저장되었습니다.\")"
      ],
      "metadata": {
        "colab": {
          "base_uri": "https://localhost:8080/"
        },
        "id": "_6HDp--VlfXu",
        "outputId": "a80f1a2f-0be9-46d4-ffc5-be10c64de079"
      },
      "execution_count": 13,
      "outputs": [
        {
          "output_type": "stream",
          "name": "stdout",
          "text": [
            "Drive already mounted at /content/drive; to attempt to forcibly remount, call drive.mount(\"/content/drive\", force_remount=True).\n",
            "\n",
            "✅ 모델 가중치가 /content/drive/MyDrive/efficientnet_rice_disease_best_model.pth에 저장되었습니다.\n"
          ]
        }
      ]
    }
  ]
}